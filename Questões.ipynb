{
 "cells": [
  {
   "cell_type": "code",
   "execution_count": null,
   "id": "1638be43-649a-4a35-84f5-288b2a18a5e8",
   "metadata": {},
   "outputs": [],
   "source": []
  }
 ],
 "metadata": {
  "kernelspec": {
   "display_name": "",
   "name": ""
  },
  "language_info": {
   "name": ""
  }
 },
 "nbformat": 4,
 "nbformat_minor": 5
}
